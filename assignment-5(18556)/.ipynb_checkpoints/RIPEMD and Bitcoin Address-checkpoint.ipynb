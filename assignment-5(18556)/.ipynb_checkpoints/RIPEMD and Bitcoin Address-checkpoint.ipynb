{
 "cells": [
  {
   "cell_type": "code",
   "execution_count": 2,
   "metadata": {},
   "outputs": [
    {
     "name": "stdout",
     "output_type": "stream",
     "text": [
      "The hexadecimal equivalent of hash is :\n",
      "3b9cc1f617c276a499de5380cca5f96c521d8421\n"
     ]
    }
   ],
   "source": [
    "import hashlib\n",
    "  \n",
    "# Passing the required algorithm\n",
    "# as string to the new constructor\n",
    "x = hashlib.new('ripemd160')\n",
    "  \n",
    "# passing GeeksforGeeks \n",
    "# to x() which uses \n",
    "# ripemd 160 algorithm for\n",
    "# hashing\n",
    "x.update(b\"Saba Fatima\")\n",
    "  \n",
    "# printing the equivalent hexadecimal\n",
    "# value. \n",
    "print(\"The hexadecimal equivalent of hash is :\") \n",
    "print(x.hexdigest())"
   ]
  },
  {
   "cell_type": "code",
   "execution_count": 13,
   "metadata": {},
   "outputs": [
    {
     "name": "stdout",
     "output_type": "stream",
     "text": [
      "18oXJq3FkkvduzoBd8FFLTY2ATMPDN37DRiHA78DncSM8XvDkm9rSU8YnGQXFpLQKyBs\n"
     ]
    }
   ],
   "source": [
    "import hashlib\n",
    "import base58\n",
    "\n",
    "hashInSHA = hashlib.sha256(b\"30820122300D06092A864886F70D01010105000382010F003082010A028201010084B9E9A89400005747671763B0C497A5E31285CFF511CA5CAB61B7E7D2EA4ECB040125BD717841F0867FE5E15D3F8DE89719D7C8D118596B4D94C1645918046DAD10912A3DE59BA47CCC7BFCF5F9819D6919775E586C6662B80C88A88D6A11F0723B2460A56A5ED02A6E260D4601FAC21EBDB8ECACFB09007FA76944AC467F3A030515BC8212D19288CC8A687C4A45A1C52B2CFDE9AE4FEF614A6D73E6B5060E164756C3A548ABE4C6265D5EBB2464BC264217615B4ECB6BEC6466FDBBA1EB04C0AEC8A0135DE8712CAAAFD440C99FBCE38D4286138131BF3FB531617C298AEF7437AEAAD906DA3A0CB2740BC6BACED65FD34095966EBA86F37F8427E088BBDB0203010001\").hexdigest()\n",
    "hashInRIPEMD = hashlib.new('ripemd160')\n",
    "hashInRIPEMD.update(str(hashInSHA).encode('ascii'))\n",
    "hashInRIPEMD = hashInRIPEMD.hexdigest()\n",
    "version = '00' + hashInRIPEMD\n",
    "checksum1 = hashlib.sha256(str(version).encode('ascii')).hexdigest()\n",
    "checksum2 = hashlib.sha256(str(checksum1).encode('ascii')).hexdigest()[:7]\n",
    "address = version + checksum2\n",
    "base58add = base58.b58encode(address.encode('ascii')).decode('ascii')\n",
    "walletAddress = \"1\" + base58add\n",
    "print(walletAddress)"
   ]
  },
  {
   "cell_type": "code",
   "execution_count": null,
   "metadata": {},
   "outputs": [],
   "source": []
  }
 ],
 "metadata": {
  "kernelspec": {
   "display_name": "Python 3",
   "language": "python",
   "name": "python3"
  },
  "language_info": {
   "codemirror_mode": {
    "name": "ipython",
    "version": 3
   },
   "file_extension": ".py",
   "mimetype": "text/x-python",
   "name": "python",
   "nbconvert_exporter": "python",
   "pygments_lexer": "ipython3",
   "version": "3.8.5"
  }
 },
 "nbformat": 4,
 "nbformat_minor": 4
}
